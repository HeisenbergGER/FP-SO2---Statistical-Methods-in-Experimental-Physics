{
 "cells": [
  {
   "cell_type": "code",
   "execution_count": 21,
   "id": "potential-worker",
   "metadata": {},
   "outputs": [
    {
     "data": {
      "text/plain": [
       "<ErrorbarContainer object of 3 artists>"
      ]
     },
     "execution_count": 21,
     "metadata": {},
     "output_type": "execute_result"
    },
    {
     "data": {
      "image/png": "[encoded data removed]",
      "text/plain": [
       "<Figure size 388.543x240.133 with 1 Axes>"
      ]
     },
     "metadata": {},
     "output_type": "display_data"
    }
   ],
   "source": [
    "import numpy as np\n",
    "import matplotlib.pyplot as plt\n",
    "from numpy.linalg import inv\n",
    "from iminuit import Minuit\n",
    "from scipy.special import gamma\n",
    "from scipy.stats import chi2\n",
    "from sympy import *\n",
    "from IPython.display import display, Latex\n",
    "from my_plot import set_size\n",
    "import matplotlib as mpl\n",
    "#mpl.rcParams['hatch.linewidth'] = 1  # previous pdf hatch linewidth\n",
    "# Using seaborn's style\n",
    "plt.style.use('seaborn')\n",
    "plt.rcParams.update({'lines.markeredgewidth': 1})\n",
    "width = 345\n",
    "\n",
    "tex_fonts = {\n",
    "    # Use LaTeX to write all text\n",
    "    \"text.usetex\": True,\n",
    "    \"font.family\": \"serif\",\n",
    "    # Use 12pt font in plots, to match 12pt font in document\n",
    "    \"axes.labelsize\": 12,\n",
    "    \"font.size\": 12,\n",
    "    # Make the legend/label fonts a little smaller\n",
    "    \"legend.fontsize\": 8,\n",
    "    \"xtick.labelsize\": 8,\n",
    "    \"ytick.labelsize\": 8\n",
    "}\n",
    "plt.rcParams.update(tex_fonts)\n",
    "\n",
    "plt.figure(figsize=set_size(390))\n",
    "\n",
    "plt.errorbar([1,2],[3,4],yerr=[0.5,0.7],fmt=\".\",capsize=10,markersize=10)"
   ]
  },
  {
   "cell_type": "code",
   "execution_count": null,
   "id": "committed-isaac",
   "metadata": {},
   "outputs": [],
   "source": []
  }
 ],
 "metadata": {
  "kernelspec": {
   "display_name": "Python 3",
   "language": "python",
   "name": "python3"
  },
  "language_info": {
   "codemirror_mode": {
    "name": "ipython",
    "version": 3
   },
   "file_extension": ".py",
   "mimetype": "text/x-python",
   "name": "python",
   "nbconvert_exporter": "python",
   "pygments_lexer": "ipython3",
   "version": "3.9.6"
  }
 },
 "nbformat": 4,
 "nbformat_minor": 5
}
