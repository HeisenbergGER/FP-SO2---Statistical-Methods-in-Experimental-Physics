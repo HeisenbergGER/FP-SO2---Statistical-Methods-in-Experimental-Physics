{
 "cells": [
  {
   "cell_type": "markdown",
   "metadata": {},
   "source": [
    "# Linear least squares fit\n",
    "\n",
    "## Tasks\n",
    "\n",
    "Perform a least squares fit of a parabola\n",
    "\n",
    "$$ y(x) = \\theta_0 + \\theta_1 x + \\theta_2 x^2$$\n",
    "\n",
    "for the seven independent measurments $(x_i, y_i)$ given by $(-0.75, 1.0 \\pm 1.0)$, $(-0.5, 4.0 \\pm 1.0)$, $(-0.25, 4.0 \\pm 0.5)$, $(0.0, 5.5 \\pm 0.5)$, $(0.25, 4.5 \\pm 0.5)$, $(0.5, 5.5 \\pm 1.0)$, $(0.75, 3.0 \\pm 1.0)$. \n",
    "\n",
    "a) Determine the best fit parameters $\\hat \\theta_i$ and their covariances using the formula for linear least squares fits.\n",
    "\n",
    "b) Determine the $\\chi_\\mathrm{obs}^2$ for the best fit parameter. What is the number of degrees of freedom? Plot the $\\chi^2$ distribution and indicate $\\chi_\\mathrm{obs}^2$ in this plot (e.g. by drawing a line at this value).\n",
    "What is the $p$-value for this fit?\n",
    "\n",
    "c) Plot the fitted parabola and the $1\\sigma$ error band around it as obtaind from the error propagation formula $\\sigma_y^2 = A^\\mathrm{T} U A$. What is the predicted value $y$ at $x=1$ and its uncertainty?\n",
    "\n",
    "d) Compare the fit result and the covariance matrix with the results obtained with iminuit. Do the results agree?\n",
    "\n",
    "e) Determine the $p$-value for a straight-line fit. Is thhis an acceptable description of the data?\n",
    "\n",
    "\n",
    "### Hints\n",
    "\n",
    "1) The following numpy functions might come in very handy\n",
    "* diagonal matrix from vector v in numpy: *A = np.diagflat(v)*\n",
    "* matrix from column vectors v0, v1, v2: *A = np.column_stack((v0, v1, v2))*\n",
    "* multiplication of matrices A and B in numpy: *C = A.dot(B)*\n",
    "* transposed matrix: *A_T = np.transpose(A)*\n",
    "* inverse matrix: *A_inv = inv(A)*, this requires *from numpy.linalg import inv*\n",
    "\n",
    "2) It might be useful to write a function which returns the uncertainty $\\sigma_y$ for a numpy array of $x$ values. A function $f$ that only works for a scalar value $x$ can be vectorized (i.e., it works also for numpy arrays) with *numpy.vectorize*.\n",
    "\n",
    "3) Data points with error bars can be drawn with *plt.errorbar(x, y, yerr=sigma_y)*\n",
    "\n",
    "4) A band between $y$ values can be drawn with the aid of *matplotlib.pyplot.fill_between*\n",
    "\n",
    "## Comments on Python's `iminuit`\n",
    "\n",
    "The KIP service has iminuit version 1.3.8. Please note that the most recent version is $\\geq2.0.0$ and that the [documentation](https://iminuit.readthedocs.io/en/stable/) applies to *that* version. Some backward-incompatible changes have been introduced, some of which changed some interfaces. For your tasks that mainly affects the `minuit.Minuit` constructor. The following shows the construction of a `Minuit` object for version 1.3.8 (in case you use the KIP service or a version $<2.0.0$) and $\\geq2.0.0$ (in case you use another service implementing a higher version), respectively.\n",
    "```python\n",
    "from iminuit import Minuit\n",
    "\n",
    "def func(par1, par2, ..., parN):\n",
    "    return minimise_something(par1, par2, ..., parN)\n",
    "\n",
    "# least squares method: errordef=1\n",
    "# likelihood method: errordef=0.5\n",
    "m = Minuit(func, par1=0.1, par2=0.1, ..., parN=0.1, errordef=1)\n",
    "```\n",
    "\n",
    "And this would be the equivalent workflow for versions >2.0.0\n",
    "```python\n",
    "from iminuit import Minuit\n",
    "\n",
    "def func(par1, par2, ..., parN):\n",
    "    return minimise_something(par1, par2, ..., parN)\n",
    "\n",
    "# least squares method: errordef=Minuit.LEAST_SQUARES\n",
    "# likelihood method: errordef=Minuit.LIKELIHOOD\n",
    "\n",
    "# add errordef as an attribute of your defined minimisation function which will be checked for when optimised\n",
    "func.errordef = Minuit.LEAST_SQUARES\n",
    "m = Minuit(func, par1=0.1 par2=0.1, ..., parN=0.1)\n",
    "```\n",
    "\n",
    "Another (potenitally) Jupiter related *feature* is the fact that `m.migrad()`, `m.matrix()`, `m.minos()` etc. can yield a nice summary of the respective procedure. However, in order to show it, either of these methods (and potentially others in case you use them) have to be *the last line of a code cell*. If there is *anything* coming afterwards, the output will not be printed, hence, for anything that follows, it is recommended to start a new code cell.\n"
   ]
  },
  {
   "cell_type": "markdown",
   "metadata": {},
   "source": [
    "## Solution"
   ]
  },
  {
   "cell_type": "code",
   "execution_count": 1,
   "metadata": {},
   "outputs": [],
   "source": [
    "import numpy as np\n",
    "import matplotlib.pyplot as plt\n",
    "from numpy.linalg import inv\n",
    "from iminuit import Minuit\n",
    "from scipy.special import gamma\n",
    "from scipy.stats import chi2\n",
    "from sympy import *\n",
    "from IPython.display import display, Latex\n",
    "from my_plot import set_size\n",
    "import matplotlib as mpl\n",
    "#mpl.rcParams['hatch.linewidth'] = 1  # previous pdf hatch linewidth\n",
    "\n",
    "# Using seaborn's style\n",
    "plt.style.use('seaborn')\n",
    "plt.rcParams.update({'lines.markeredgewidth': 1})\n",
    "width = 345\n",
    "\n",
    "tex_fonts = {\n",
    "    # Use LaTeX to write all text\n",
    "    \"text.usetex\": True,\n",
    "    \"font.family\": \"serif\",\n",
    "    # Use 12pt font in plots, to match 12pt font in document\n",
    "    \"axes.labelsize\": 12,\n",
    "    \"font.size\": 12,\n",
    "    # Make the legend/label fonts a little smaller\n",
    "    \"legend.fontsize\": 8,\n",
    "    \"xtick.labelsize\": 8,\n",
    "    \"ytick.labelsize\": 8\n",
    "}\n",
    "plt.rcParams.update(tex_fonts)"
   ]
  },
  {
   "cell_type": "code",
   "execution_count": 2,
   "metadata": {},
   "outputs": [],
   "source": [
    "# data\n",
    "x = np.array([-0.75, -0.5, -0.25, 0., 0.25, 0.5, 0.75])\n",
    "y = np.array([1., 4.0, 4., 5.5, 4.5, 5.5, 3])\n",
    "sigma_y = np.array([1, 1, 0.5, 0.5, 0.5, 1, 1])\n",
    "def f(x,sigma_0,sigma_1,sigma_2):\n",
    "    return sigma_0+sigma_1*x+sigma_2*x**2\n",
    "\n",
    "def error_prop_corr(f, x, V):\n",
    "    \"\"\"\n",
    "    f: function f = f(x[0], x[1], ...)\n",
    "    x: list of variables\n",
    "    V: covariance matrix (python 2d list)\n",
    "    \"\"\"\n",
    "    sum = sympify(\"0\") # empty sympy expression\n",
    "    for i in range(len(x)):\n",
    "        for j in range(len(x)):\n",
    "            sum += diff(f, x[i]) * diff(f, x[j]) * V[i][j] \n",
    "    return sqrt(simplify(sum))\n"
   ]
  },
  {
   "cell_type": "code",
   "execution_count": 3,
   "metadata": {},
   "outputs": [
    {
     "data": {
      "text/latex": [
       "Parameters:"
      ],
      "text/plain": [
       "<IPython.core.display.Latex object>"
      ]
     },
     "metadata": {},
     "output_type": "display_data"
    },
    {
     "data": {
      "text/latex": [
       "$\\displaystyle \\left[\\begin{matrix}4.99373795761079\\\\1.29411764705882\\\\-4.89402697495183\\end{matrix}\\right]$"
      ],
      "text/plain": [
       "Matrix([\n",
       "[ 4.99373795761079],\n",
       "[ 1.29411764705882],\n",
       "[-4.89402697495183]])"
      ]
     },
     "metadata": {},
     "output_type": "display_data"
    },
    {
     "data": {
      "text/latex": [
       "Convariance Matrix"
      ],
      "text/plain": [
       "<IPython.core.display.Latex object>"
      ]
     },
     "metadata": {},
     "output_type": "display_data"
    },
    {
     "data": {
      "text/latex": [
       "$\\displaystyle \\left[\\begin{matrix}0.0973025048169557 & 0.0 & -0.262042389210019\\\\0.0 & 0.470588235294118 & 0.0\\\\-0.262042389210019 & 0.0 & 1.97302504816956\\end{matrix}\\right]$"
      ],
      "text/plain": [
       "Matrix([\n",
       "[0.0973025048169557,               0.0, -0.262042389210019],\n",
       "[               0.0, 0.470588235294118,                0.0],\n",
       "[-0.262042389210019,               0.0,   1.97302504816956]])"
      ]
     },
     "metadata": {},
     "output_type": "display_data"
    }
   ],
   "source": [
    "sigma_0, sigma_1, sigma_2 = 0,0,0\n",
    "v0 = np.ones(7)\n",
    "v1 = x\n",
    "v2 = x**2\n",
    "A = np.column_stack((v0,v1,v2))\n",
    "mu = []\n",
    "Lambda = [sigma_0,sigma_1,sigma_2]\n",
    "for i in range(len(Lambda)):\n",
    "    for j in range(len(Lambda)):\n",
    "        mu.append(A[i][j]*Lambda[j])\n",
    "C = np.zeros((7,7))\n",
    "for i in range(7):\n",
    "        C[i][i]=sigma_y[i]**2\n",
    "C_inv = inv(C)\n",
    "A_T = np.transpose(A)\n",
    "sigmas = np.zeros(3)\n",
    "G= (inv((A_T.dot(C_inv)).dot(A)).dot(A_T)).dot(C_inv)\n",
    "for i in range(3):\n",
    "    for j in range(len(y)):\n",
    "        sigmas[i] +=G[i][j]*y[j]\n",
    "a = np.transpose(y-A.dot(sigmas))\n",
    "a_im = a\n",
    "chi2_obs = (a.dot(C_inv)).dot(a)\n",
    "C_lam = inv((A_T.dot(C_inv)).dot(A))\n",
    "display(Latex(\"Parameters:\"))\n",
    "display(Matrix(sigmas))\n",
    "display(Latex(\"Convariance Matrix\"))\n",
    "display(Matrix(C_lam))"
   ]
  },
  {
   "cell_type": "code",
   "execution_count": null,
   "metadata": {},
   "outputs": [],
   "source": []
  },
  {
   "cell_type": "code",
   "execution_count": 4,
   "metadata": {},
   "outputs": [
    {
     "data": {
      "image/png": "[encoded data removed]",
      "text/plain": [
       "<Figure size 388.543x240.133 with 1 Axes>"
      ]
     },
     "metadata": {},
     "output_type": "display_data"
    }
   ],
   "source": [
    "def chi2_dist(chi2_obs,n):\n",
    "    return (chi2**(n/2 -1)*np.exp(-chi2/2))/(2**(n/2)*gamma(n/2))\n",
    "chi2_gen = np.linspace(0,10,10000)\n",
    "chi2_d = chi2.pdf(chi2_gen,4)\n",
    "plt.figure(figsize=set_size(390))\n",
    "plt.title(r\"$\\chi^2$ distribution\")\n",
    "plt.xlabel(r\"$\\chi^2$\")\n",
    "plt.ylabel(\"?\")\n",
    "plt.plot(chi2_gen,chi2_d,label=r\"$\\chi^2$ for $n=4$\")\n",
    "plt.plot([chi2_obs,chi2_obs],[0,0.25],label=r\"$\\chi^2_{obs}$\")\n",
    "plt.text(chi2_obs+0.05,0.2,s=r\"$\\chi^2_{}$ =${:.3f}$\".format(\"{obs}\",chi2_obs))\n",
    "plt.legend()\n",
    "plt.savefig(\"PDFs/chi2_distribution.pdf\",format=\"PDF\")"
   ]
  },
  {
   "cell_type": "code",
   "execution_count": 5,
   "metadata": {},
   "outputs": [
    {
     "name": "stdout",
     "output_type": "stream",
     "text": [
      "[0.0, -0.0, 0.0, 0.0, -0.0, 0.0, 0.0, -0.0, 0.0]\n"
     ]
    },
    {
     "data": {
      "image/png": "[encoded data removed]",
      "text/plain": [
       "<Figure size 388.543x240.133 with 1 Axes>"
      ]
     },
     "metadata": {},
     "output_type": "display_data"
    }
   ],
   "source": [
    "sigma_y_fit = np.sqrt(np.diag(C_lam))\n",
    "plt.figure(figsize=set_size(390))\n",
    "plt.title(r\"Least squares fit of parabola $y(x) = \\theta_0 + \\theta_1 \\cdot x + \\theta_2 \\cdot x^2$\")\n",
    "plt.xlabel(\"x\")\n",
    "plt.ylabel(\"y\")\n",
    "plt.errorbar(x,y,fmt='.',yerr=sigma_y,capsize=5,markersize=8,label=\"data\")\n",
    "print(mu)\n",
    "x_c = np.linspace(-0.75,1,1000)\n",
    "x_f,a,b,c,sigma_a,sigma_b,sigma_c= symbols('x_f,a,sigma_a,b,sigma_b,c,sigma_c', positive=True)\n",
    "func = a + b*x_f+c*x_f**2\n",
    "a_meas = sigmas[0]\n",
    "sigma_a_meas = sigma_y_fit[0]\n",
    "b_meas = sigmas[1]\n",
    "sigma_b_meas = sigma_y_fit[1]\n",
    "c_meas = sigmas[2]\n",
    "sigma_c_meas = sigma_y_fit[2]\n",
    "vars = [a,b,c]\n",
    "sigmas_func = error_prop_corr(func,vars,C_lam)\n",
    "def sigma_for_x(my_x):\n",
    "    sigma_func_eval = sigmas_func.subs([(x_f,my_x), (a, a_meas), (b, b_meas), (c, c_meas),(sigma_a , sigma_a_meas),(sigma_b , sigma_b_meas),(sigma_c , sigma_c_meas)]).evalf()\n",
    "    return sigma_func_eval\n",
    "my_sigma = []    \n",
    "for i in x_c:\n",
    "    my_sigma.append(sigma_for_x(i))\n",
    "my_sigma = np.array(my_sigma)\n",
    "lower_bound = f(x_c,*sigmas)-my_sigma.astype(float)\n",
    "upper_bound = f(x_c,*sigmas)+my_sigma.astype(float)\n",
    "plt.plot(x_c,f(x_c,*sigmas),color='black',label=\"least squares fit: $\\\\theta_0 =$ {:.2f} $\\pm$ {:.2f}, $\\\\theta_1 = $ {:.2f} $\\pm$ {:.2f}, $\\\\theta_2 = $ {:.2f} $\\pm$ {:.2f} \\n $\\chi^2 = $ {:.3f}, ndof = {:.0f}, $\\chi^2_{} = $ {:.3f}, $p = $ {:.3f}\".format(a_meas,sigma_a_meas,b_meas,sigma_b_meas,c_meas,sigma_c_meas,chi2_obs,len(x)-len(sigmas),\"{red}\",chi2_obs/(len(x)-len(sigmas)),1-chi2.cdf(chi2_obs,len(x)-len(sigmas))))\n",
    "plt.fill_between(x_c,lower_bound,upper_bound, color='r',alpha=0.4,label=r\"$1 \\sigma$ error band\")\n",
    "plt.scatter([1,1],[f(x_c,*sigmas)[-1],f(x_c,*sigmas)[-1]],100,marker=\"^\",color=\"orange\",label=r\"y(1) = {:.3f} $\\pm$ {:.3f}\".format(f(x_c,*sigmas)[-1],sigma_for_x(1)))\n",
    "plt.legend()\n",
    "plt.savefig(\"PDFs/manual_parabola_fit.pdf\",format=\"PDF\")"
   ]
  },
  {
   "cell_type": "code",
   "execution_count": 6,
   "metadata": {},
   "outputs": [],
   "source": [
    "def LSQ(a, b,c):\n",
    "    return np.sum((y - f(x, a, b,c)) ** 2 / sigma_y ** 2)\n",
    "\n",
    "# least squares method: errordef=Minuit.LEAST_SQUARES\n",
    "# likelihood method: errordef=Minuit.LIKELIHOOD\n",
    "\n",
    "# add errordef as an attribute of your defined minimisation function which will be checked for when optimised\n",
    "LSQ.errordef = Minuit.LEAST_SQUARES\n",
    "m = Minuit(LSQ,a=5,b=1.3,c=-5 )"
   ]
  },
  {
   "cell_type": "code",
   "execution_count": 7,
   "metadata": {},
   "outputs": [
    {
     "data": {
      "text/html": [
       "<table>\n",
       "    <tr>\n",
       "        <th colspan=\"5\" style=\"text-align:center\" title=\"Minimizer\"> Migrad </th>\n",
       "    </tr>\n",
       "    <tr>\n",
       "        <td colspan=\"2\" style=\"text-align:left\" title=\"Minimum value of function\"> FCN = 4.661 </td>\n",
       "        <td colspan=\"3\" style=\"text-align:center\" title=\"No. of function evaluations in last call and total number\"> Nfcn = 45 </td>\n",
       "    </tr>\n",
       "    <tr>\n",
       "        <td colspan=\"2\" style=\"text-align:left\" title=\"Estimated distance to minimum and goal\"> EDM = 2.19e-05 (Goal: 0.0002) </td>\n",
       "        <td colspan=\"3\" style=\"text-align:center\" title=\"No. of gradient evaluations in last call and total number\">  </td>\n",
       "    </tr>\n",
       "    <tr>\n",
       "        <td colspan=\"2\" style=\"text-align:center;background-color:#92CCA6;color:black\"> Valid Minimum </td>\n",
       "        <td colspan=\"3\" style=\"text-align:center;background-color:#92CCA6;color:black\"> No Parameters at limit </td>\n",
       "    </tr>\n",
       "    <tr>\n",
       "        <td colspan=\"2\" style=\"text-align:center;background-color:#92CCA6;color:black\"> Below EDM threshold (goal x 10) </td>\n",
       "        <td colspan=\"3\" style=\"text-align:center;background-color:#92CCA6;color:black\"> Below call limit </td>\n",
       "    </tr>\n",
       "    <tr>\n",
       "        <td style=\"text-align:center;background-color:#92CCA6;color:black\"> Covariance </td>\n",
       "        <td style=\"text-align:center;background-color:#92CCA6;color:black\"> Hesse ok </td>\n",
       "        <td style=\"text-align:center;background-color:#92CCA6;color:black\" title=\"Is covariance matrix accurate?\"> Accurate </td>\n",
       "        <td style=\"text-align:center;background-color:#92CCA6;color:black\" title=\"Is covariance matrix positive definite?\"> Pos. def. </td>\n",
       "        <td style=\"text-align:center;background-color:#92CCA6;color:black\" title=\"Was positive definiteness enforced by Minuit?\"> Not forced </td>\n",
       "    </tr>\n",
       "</table><table>\n",
       "    <tr>\n",
       "        <td></td>\n",
       "        <th title=\"Variable name\"> Name </th>\n",
       "        <th title=\"Value of parameter\"> Value </th>\n",
       "        <th title=\"Hesse error\"> Hesse Error </th>\n",
       "        <th title=\"Minos lower error\"> Minos Error- </th>\n",
       "        <th title=\"Minos upper error\"> Minos Error+ </th>\n",
       "        <th title=\"Lower limit of the parameter\"> Limit- </th>\n",
       "        <th title=\"Upper limit of the parameter\"> Limit+ </th>\n",
       "        <th title=\"Is the parameter fixed in the fit\"> Fixed </th>\n",
       "    </tr>\n",
       "    <tr>\n",
       "        <th> 0 </th>\n",
       "        <td> a </td>\n",
       "        <td> 4.99 </td>\n",
       "        <td> 0.31 </td>\n",
       "        <td>  </td>\n",
       "        <td>  </td>\n",
       "        <td>  </td>\n",
       "        <td>  </td>\n",
       "        <td>  </td>\n",
       "    </tr>\n",
       "    <tr>\n",
       "        <th> 1 </th>\n",
       "        <td> b </td>\n",
       "        <td> 1.3 </td>\n",
       "        <td> 0.7 </td>\n",
       "        <td>  </td>\n",
       "        <td>  </td>\n",
       "        <td>  </td>\n",
       "        <td>  </td>\n",
       "        <td>  </td>\n",
       "    </tr>\n",
       "    <tr>\n",
       "        <th> 2 </th>\n",
       "        <td> c </td>\n",
       "        <td> -4.9 </td>\n",
       "        <td> 1.4 </td>\n",
       "        <td>  </td>\n",
       "        <td>  </td>\n",
       "        <td>  </td>\n",
       "        <td>  </td>\n",
       "        <td>  </td>\n",
       "    </tr>\n",
       "</table><table>\n",
       "    <tr>\n",
       "        <td></td>\n",
       "        <th> a </th>\n",
       "        <th> b </th>\n",
       "        <th> c </th>\n",
       "    </tr>\n",
       "    <tr>\n",
       "        <th> a </th>\n",
       "        <td> 0.0973 </td>\n",
       "        <td style=\"background-color:rgb(250,250,250);color:black\"> -5.25e-11 </td>\n",
       "        <td style=\"background-color:rgb(172,172,250);color:black\"> -0.262 <strong>(-0.598)</strong> </td>\n",
       "    </tr>\n",
       "    <tr>\n",
       "        <th> b </th>\n",
       "        <td style=\"background-color:rgb(250,250,250);color:black\"> -5.25e-11 </td>\n",
       "        <td> 0.471 </td>\n",
       "        <td style=\"background-color:rgb(250,250,250);color:black\"> 3.96e-10 </td>\n",
       "    </tr>\n",
       "    <tr>\n",
       "        <th> c </th>\n",
       "        <td style=\"background-color:rgb(172,172,250);color:black\"> -0.262 <strong>(-0.598)</strong> </td>\n",
       "        <td style=\"background-color:rgb(250,250,250);color:black\"> 3.96e-10 </td>\n",
       "        <td> 1.97 </td>\n",
       "    </tr>\n",
       "</table>"
      ],
      "text/plain": [
       "┌─────────────────────────────────────────────────────────────────────────┐\n",
       "│                                Migrad                                   │\n",
       "├──────────────────────────────────┬──────────────────────────────────────┤\n",
       "│ FCN = 4.661                      │              Nfcn = 45               │\n",
       "│ EDM = 2.19e-05 (Goal: 0.0002)    │                                      │\n",
       "├──────────────────────────────────┼──────────────────────────────────────┤\n",
       "│          Valid Minimum           │        No Parameters at limit        │\n",
       "├──────────────────────────────────┼──────────────────────────────────────┤\n",
       "│ Below EDM threshold (goal x 10)  │           Below call limit           │\n",
       "├───────────────┬──────────────────┼───────────┬─────────────┬────────────┤\n",
       "│  Covariance   │     Hesse ok     │ Accurate  │  Pos. def.  │ Not forced │\n",
       "└───────────────┴──────────────────┴───────────┴─────────────┴────────────┘\n",
       "┌───┬──────┬───────────┬───────────┬────────────┬────────────┬─────────┬─────────┬───────┐\n",
       "│   │ Name │   Value   │ Hesse Err │ Minos Err- │ Minos Err+ │ Limit-  │ Limit+  │ Fixed │\n",
       "├───┼──────┼───────────┼───────────┼────────────┼────────────┼─────────┼─────────┼───────┤\n",
       "│ 0 │ a    │   4.99    │   0.31    │            │            │         │         │       │\n",
       "│ 1 │ b    │    1.3    │    0.7    │            │            │         │         │       │\n",
       "│ 2 │ c    │   -4.9    │    1.4    │            │            │         │         │       │\n",
       "└───┴──────┴───────────┴───────────┴────────────┴────────────┴─────────┴─────────┴───────┘\n",
       "┌───┬───────────────────────────────┐\n",
       "│   │         a         b         c │\n",
       "├───┼───────────────────────────────┤\n",
       "│ a │    0.0973 -5.25e-11    -0.262 │\n",
       "│ b │ -5.25e-11     0.471  3.96e-10 │\n",
       "│ c │    -0.262  3.96e-10      1.97 │\n",
       "└───┴───────────────────────────────┘"
      ]
     },
     "execution_count": 7,
     "metadata": {},
     "output_type": "execute_result"
    }
   ],
   "source": [
    "m.migrad()"
   ]
  },
  {
   "cell_type": "code",
   "execution_count": 8,
   "metadata": {},
   "outputs": [
    {
     "data": {
      "image/png": "[encoded data removed]",
      "text/plain": [
       "<Figure size 388.543x240.133 with 1 Axes>"
      ]
     },
     "metadata": {},
     "output_type": "display_data"
    }
   ],
   "source": [
    "theta_0 = m.values[\"a\"]\n",
    "theta_1 = m.values[\"b\"]\n",
    "theta_2 = m.values[\"c\"]\n",
    "\n",
    "sigma_0 = m.errors[\"a\"]\n",
    "sigma_1 = m.errors[\"b\"]\n",
    "sigma_2 = m.errors[\"c\"]\n",
    "\n",
    "def sigma_for_x_minuit(my_x):\n",
    "    sigma_func_eval = sigmas_func.subs([(x_f,my_x), (a, theta_0), (b, theta_1), (c, theta_2),(sigma_a , sigma_0),(sigma_b , sigma_1),(sigma_c , sigma_2)]).evalf()\n",
    "    return sigma_func_eval\n",
    "my_sigma_minuit = []    \n",
    "for i in x_c:\n",
    "    my_sigma_minuit.append(sigma_for_x_minuit(i))\n",
    "my_sigma_minuit = np.array(my_sigma_minuit)\n",
    "\n",
    "lower_bound = f(x_c,theta_0,theta_1,theta_2)-my_sigma_minuit.astype(float)\n",
    "upper_bound = f(x_c,theta_0,theta_1,theta_2)+my_sigma_minuit.astype(float)\n",
    "\n",
    "plt.figure(figsize=set_size(390))\n",
    "plt.title(r\"Iminuit LSQ fit of parabola $y(x) = \\theta_0 + \\theta_1 \\cdot x + \\theta_2 \\cdot x^2$\")\n",
    "plt.xlabel(\"x\")\n",
    "plt.ylabel(\"y\")\n",
    "plt.errorbar(x,y,yerr=sigma_y,markersize=8,capsize=5,fmt=\".\",label=\"data\")\n",
    "plt.plot(x_c,f(x_c,theta_0,theta_1,theta_2),color=\"black\",label=\"Iminuit LSQ with $\\\\theta_0 = $ {:.2f} $\\pm$ {:.2f}, $\\\\theta_1 = $ {:.2f} $\\pm$ {:.2f}, $\\\\theta_2 = $ {:.2f} $\\pm$ {:.2f} \\n $\\chi^2 = $ {:.3f}, ndof = {:.0f}, $\\chi^2_{} = $ {:.3f}, $p = $ {:.3f}\".format(theta_0,sigma_0,theta_1,sigma_1,theta_2,sigma_2,m.fval,len(x)-m.nfit,\"{red}\",m.fval/(len(x)-m.nfit),1-chi2.cdf(m.fval,len(x)-m.nfit)))\n",
    "plt.scatter([1,1],[f(x_c,theta_0,theta_1,theta_2)[-1],f(x_c,theta_0,theta_1,theta_2)[-1]],100,marker=\"^\",color=\"yellow\",label=r\"$y(1) = $ {:.3f} $\\pm$ {:.3f}\".format(f(x_c,theta_0,theta_1,theta_2)[-1],my_sigma_minuit[-1]))\n",
    "plt.fill_between(x_c,lower_bound,upper_bound, color='r',alpha=0.4,label=r\"$1 \\sigma$ error band\")\n",
    "plt.legend()\n",
    "plt.savefig(\"PDFs/iminuit_parabola_fit.pdf\",format=\"PDF\")"
   ]
  },
  {
   "cell_type": "markdown",
   "metadata": {},
   "source": [
    "As one can see above, the fit parameters, their errors, as well as the covariance matrix, are within agreement."
   ]
  },
  {
   "cell_type": "code",
   "execution_count": 9,
   "metadata": {},
   "outputs": [],
   "source": [
    "def line(x,a,b):\n",
    "    return a*x + b\n",
    "def LSQ_line(a,b):\n",
    "    return np.sum((y - line(x, a, b)) ** 2 / sigma_y ** 2)\n",
    "LSQ_line.errordef = Minuit.LEAST_SQUARES\n",
    "m = Minuit(LSQ_line,a=1,b=5 )"
   ]
  },
  {
   "cell_type": "code",
   "execution_count": 10,
   "metadata": {},
   "outputs": [
    {
     "data": {
      "text/html": [
       "<table>\n",
       "    <tr>\n",
       "        <th colspan=\"5\" style=\"text-align:center\" title=\"Minimizer\"> Migrad </th>\n",
       "    </tr>\n",
       "    <tr>\n",
       "        <td colspan=\"2\" style=\"text-align:left\" title=\"Minimum value of function\"> FCN = 16.8 </td>\n",
       "        <td colspan=\"3\" style=\"text-align:center\" title=\"No. of function evaluations in last call and total number\"> Nfcn = 22 </td>\n",
       "    </tr>\n",
       "    <tr>\n",
       "        <td colspan=\"2\" style=\"text-align:left\" title=\"Estimated distance to minimum and goal\"> EDM = 3.98e-18 (Goal: 0.0002) </td>\n",
       "        <td colspan=\"3\" style=\"text-align:center\" title=\"No. of gradient evaluations in last call and total number\">  </td>\n",
       "    </tr>\n",
       "    <tr>\n",
       "        <td colspan=\"2\" style=\"text-align:center;background-color:#92CCA6;color:black\"> Valid Minimum </td>\n",
       "        <td colspan=\"3\" style=\"text-align:center;background-color:#92CCA6;color:black\"> No Parameters at limit </td>\n",
       "    </tr>\n",
       "    <tr>\n",
       "        <td colspan=\"2\" style=\"text-align:center;background-color:#92CCA6;color:black\"> Below EDM threshold (goal x 10) </td>\n",
       "        <td colspan=\"3\" style=\"text-align:center;background-color:#92CCA6;color:black\"> Below call limit </td>\n",
       "    </tr>\n",
       "    <tr>\n",
       "        <td style=\"text-align:center;background-color:#92CCA6;color:black\"> Covariance </td>\n",
       "        <td style=\"text-align:center;background-color:#92CCA6;color:black\"> Hesse ok </td>\n",
       "        <td style=\"text-align:center;background-color:#92CCA6;color:black\" title=\"Is covariance matrix accurate?\"> Accurate </td>\n",
       "        <td style=\"text-align:center;background-color:#92CCA6;color:black\" title=\"Is covariance matrix positive definite?\"> Pos. def. </td>\n",
       "        <td style=\"text-align:center;background-color:#92CCA6;color:black\" title=\"Was positive definiteness enforced by Minuit?\"> Not forced </td>\n",
       "    </tr>\n",
       "</table><table>\n",
       "    <tr>\n",
       "        <td></td>\n",
       "        <th title=\"Variable name\"> Name </th>\n",
       "        <th title=\"Value of parameter\"> Value </th>\n",
       "        <th title=\"Hesse error\"> Hesse Error </th>\n",
       "        <th title=\"Minos lower error\"> Minos Error- </th>\n",
       "        <th title=\"Minos upper error\"> Minos Error+ </th>\n",
       "        <th title=\"Lower limit of the parameter\"> Limit- </th>\n",
       "        <th title=\"Upper limit of the parameter\"> Limit+ </th>\n",
       "        <th title=\"Is the parameter fixed in the fit\"> Fixed </th>\n",
       "    </tr>\n",
       "    <tr>\n",
       "        <th> 0 </th>\n",
       "        <td> a </td>\n",
       "        <td> 1.3 </td>\n",
       "        <td> 0.7 </td>\n",
       "        <td>  </td>\n",
       "        <td>  </td>\n",
       "        <td>  </td>\n",
       "        <td>  </td>\n",
       "        <td>  </td>\n",
       "    </tr>\n",
       "    <tr>\n",
       "        <th> 1 </th>\n",
       "        <td> b </td>\n",
       "        <td> 4.34 </td>\n",
       "        <td> 0.25 </td>\n",
       "        <td>  </td>\n",
       "        <td>  </td>\n",
       "        <td>  </td>\n",
       "        <td>  </td>\n",
       "        <td>  </td>\n",
       "    </tr>\n",
       "</table><table>\n",
       "    <tr>\n",
       "        <td></td>\n",
       "        <th> a </th>\n",
       "        <th> b </th>\n",
       "    </tr>\n",
       "    <tr>\n",
       "        <th> a </th>\n",
       "        <td> 0.471 </td>\n",
       "        <td style=\"background-color:rgb(250,250,250);color:black\"> -7.18e-11 </td>\n",
       "    </tr>\n",
       "    <tr>\n",
       "        <th> b </th>\n",
       "        <td style=\"background-color:rgb(250,250,250);color:black\"> -7.18e-11 </td>\n",
       "        <td> 0.0625 </td>\n",
       "    </tr>\n",
       "</table>"
      ],
      "text/plain": [
       "┌─────────────────────────────────────────────────────────────────────────┐\n",
       "│                                Migrad                                   │\n",
       "├──────────────────────────────────┬──────────────────────────────────────┤\n",
       "│ FCN = 16.8                       │              Nfcn = 22               │\n",
       "│ EDM = 3.98e-18 (Goal: 0.0002)    │                                      │\n",
       "├──────────────────────────────────┼──────────────────────────────────────┤\n",
       "│          Valid Minimum           │        No Parameters at limit        │\n",
       "├──────────────────────────────────┼──────────────────────────────────────┤\n",
       "│ Below EDM threshold (goal x 10)  │           Below call limit           │\n",
       "├───────────────┬──────────────────┼───────────┬─────────────┬────────────┤\n",
       "│  Covariance   │     Hesse ok     │ Accurate  │  Pos. def.  │ Not forced │\n",
       "└───────────────┴──────────────────┴───────────┴─────────────┴────────────┘\n",
       "┌───┬──────┬───────────┬───────────┬────────────┬────────────┬─────────┬─────────┬───────┐\n",
       "│   │ Name │   Value   │ Hesse Err │ Minos Err- │ Minos Err+ │ Limit-  │ Limit+  │ Fixed │\n",
       "├───┼──────┼───────────┼───────────┼────────────┼────────────┼─────────┼─────────┼───────┤\n",
       "│ 0 │ a    │    1.3    │    0.7    │            │            │         │         │       │\n",
       "│ 1 │ b    │   4.34    │   0.25    │            │            │         │         │       │\n",
       "└───┴──────┴───────────┴───────────┴────────────┴────────────┴─────────┴─────────┴───────┘\n",
       "┌───┬─────────────────────┐\n",
       "│   │         a         b │\n",
       "├───┼─────────────────────┤\n",
       "│ a │     0.471 -7.18e-11 │\n",
       "│ b │ -7.18e-11    0.0625 │\n",
       "└───┴─────────────────────┘"
      ]
     },
     "execution_count": 10,
     "metadata": {},
     "output_type": "execute_result"
    }
   ],
   "source": [
    "m.migrad()"
   ]
  },
  {
   "cell_type": "code",
   "execution_count": 11,
   "metadata": {},
   "outputs": [
    {
     "data": {
      "image/png": "[encoded data removed]",
      "text/plain": [
       "<Figure size 388.543x240.133 with 1 Axes>"
      ]
     },
     "metadata": {},
     "output_type": "display_data"
    }
   ],
   "source": [
    "a = m.values[\"a\"]\n",
    "b = m.values[\"b\"]\n",
    "a_err = m.errors[\"a\"]\n",
    "b_err = m.errors[\"b\"]\n",
    "C_im = m.covariance\n",
    "\n",
    "plt.figure(figsize=set_size(390))\n",
    "plt.title(\"Iminuit LSQ fit of a linear function with $y(x) = a \\cdot x + b$\")\n",
    "plt.xlabel(\"x\")\n",
    "plt.ylabel(\"y\")\n",
    "plt.errorbar(x,y,yerr=sigma_y,capsize=5,markersize=8,fmt=\".\",label=\"data\")\n",
    "plt.plot(x_c,line(x_c,a,b),label=\"linear fit: $a = $ {:.2f} $\\pm$ {:.2f}, $b = $ {:.2f} $\\pm $ {:.2f} \\n $\\chi^2 = $ {:.3f}, ndof = {:.0f}, $\\chi^2_{} = $ {:.3f}, $p = $ {:.3f}\".format(a,a_err,b,b_err,m.fval,len(x)-m.nfit,\"{red}\",m.fval/(len(x)-m.nfit),1-chi2.cdf(m.fval,len(x)-m.nfit)))\n",
    "plt.legend()\n",
    "plt.savefig(\"PDFs/iminuit_linear_fit.pdf\",format=\"PDF\")"
   ]
  },
  {
   "cell_type": "markdown",
   "metadata": {},
   "source": [
    "The line fit has a low p-value and is hence not an acceptable description of the data."
   ]
  },
  {
   "cell_type": "code",
   "execution_count": null,
   "metadata": {},
   "outputs": [],
   "source": []
  }
 ],
 "metadata": {
  "kernelspec": {
   "display_name": "Python 3",
   "language": "python",
   "name": "python3"
  },
  "language_info": {
   "codemirror_mode": {
    "name": "ipython",
    "version": 3
   },
   "file_extension": ".py",
   "mimetype": "text/x-python",
   "name": "python",
   "nbconvert_exporter": "python",
   "pygments_lexer": "ipython3",
   "version": "3.9.6"
  }
 },
 "nbformat": 4,
 "nbformat_minor": 4
}
