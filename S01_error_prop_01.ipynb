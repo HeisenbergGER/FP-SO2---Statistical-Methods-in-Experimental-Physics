{
 "cells": [
  {
   "cell_type": "markdown",
   "metadata": {},
   "source": [
    "# Error propagation\n",
    "\n",
    "a) Propagate uncertainties for the following expressions using [SymPy](https://www.sympy.org) following the examples for [uncorrelated variables](https://nbviewer.jupyter.org/urls/www.physi.uni-heidelberg.de/Einrichtungen/FP/Datenanalyse/FP_Gaussian_error_propagation.ipynb?flush_cache=false) and [correlated variables](https://nbviewer.jupyter.org/urls/www.physi.uni-heidelberg.de/Einrichtungen/FP/Datenanalyse/FP_Gaussian_error_propagation_corr.ipynb?flush_cache=false) from the FP web page.\n",
    "\n",
    "i) Find expressions for the absolute uncertainty $\\sigma_z$ for $z = x + y$ and $z = x - y$ \n",
    "\n",
    "ii) Find expressions for the relative uncertainty $\\sigma_z / z$ for $z = x \\cdot y, \\; z = x / y$ and $z = x^n y^n$\n",
    "\n",
    "iii) The acceleration of gravity with a simple pendulum is given by the following formula:\n",
    "$$g = 4  \\pi^2 \\frac{L}{T^2}$$\n",
    "The relevant variables are the length $L$ of the pendulum and the period $T$ with the corresponding errors $\\sigma_L$ and $\\sigma_T$.\n",
    "\n",
    "b) The radius $r$ and the height $h$ of a cylinder have been measured to $r = 2$ cm and $h = 3$ cm. The uncertainty for both measurements is $\\sigma = 0.05$ cm. Determine the volume of the cylinder and its uncertainty assuming (i) that both measurements are uncorrelated and (ii) that both measurements are fully correlated.\n",
    "\n",
    "c) The scattering angle and the radial distance of a certain particle can be determined from a position measurement $(x,y)$ \n",
    "$$r = \\sqrt{x^2 + y^2}, \\quad \\theta = \\mathrm{atan2}(y, x)$$\n",
    "You find more on the [atan2](https://en.wikipedia.org/wiki/Atan2) function on wikipedia. The position ($x$,$y$) is measured with the corresponding uncertainties $\\sigma_x$ and $\\sigma_y$. Write a python function that returns the covariance matrix $U$ of $r$ and $\\theta$ for a given covariance matrix $V$ of $x$ and $y$. Determine $U$ under the assumption that $x$ and $y$ are uncorrelated. Hint: The formulas you need can be found in the script.\n"
   ]
  },
  {
   "cell_type": "markdown",
   "metadata": {},
   "source": [
    "### Solution"
   ]
  },
  {
   "cell_type": "code",
   "execution_count": 1,
   "metadata": {},
   "outputs": [],
   "source": [
    "from sympy import *\n",
    "from IPython.display import display, Latex\n",
    "import numpy as np"
   ]
  },
  {
   "cell_type": "markdown",
   "metadata": {},
   "source": [
    "# General definitions"
   ]
  },
  {
   "cell_type": "code",
   "execution_count": 2,
   "metadata": {},
   "outputs": [],
   "source": [
    "def error_prop(f, vars):\n",
    "    \"\"\"\n",
    "    Symbolic Gaussian error propagation.\n",
    "    \n",
    "    Arguments:\n",
    "    f: formula (sympy expression)\n",
    "    vars: list of independent variables and corresponding uncertainties [(x1, sigma_x1), (x2, sigma_x2), ...]\n",
    "    \n",
    "    return value: sympy expression for the uncertainty of the calculated expression f\n",
    "    \n",
    "    \"\"\"\n",
    "    sum = sympify(\"0\") # empty SymPy expression\n",
    "    for (x, sigma) in vars:\n",
    "        sum += diff(f, x)**2 * sigma**2 \n",
    "    return sqrt(simplify(sum))\n",
    "\n",
    "def error_prop_corr(f, x, V):\n",
    "    \"\"\"\n",
    "    f: function f = f(x[0], x[1], ...)\n",
    "    x: list of variables\n",
    "    V: covariance matrix (python 2d list)\n",
    "    \"\"\"\n",
    "    sum = sympify(\"0\") # empty sympy expression\n",
    "    for i in range(len(x)):\n",
    "        for j in range(len(x)):\n",
    "            sum += diff(f, x[i]) * diff(f, x[j]) * V[i][j] \n",
    "    return sqrt(simplify(sum))\n",
    "\n",
    "\n",
    "def corr_transfer(f,g,C,vars):\n",
    "    a = simplify(diff(f,vars[0])*diff(f,vars[0])*C.row(0).col(0) + diff(f,vars[1])*diff(f,vars[1])*C.row(1).col(1))\n",
    "    b = simplify(diff(f,vars[0])*diff(g,vars[0])*C.row(0).col(0) + diff(f,vars[1])*diff(g,vars[1])*C.row(1).col(1))\n",
    "    c = simplify(diff(g,vars[0])*diff(f,vars[0])*C.row(0).col(0) + diff(g,vars[1])*diff(f,vars[1])*C.row(1).col(1))\n",
    "    d = simplify(diff(g,vars[0])*diff(g,vars[0])*C.row(0).col(0) + diff(g,vars[1])*diff(g,vars[1])*C.row(1).col(1))\n",
    "    return Matrix([[a,b],[c,d]])\n",
    "    #return diff(f,vars[0])*diff(g,vars[0])*C.row(0).col(0) + diff(f,vars[1])*diff(g,vars[1])*C.row(1).col(1)\n",
    "     "
   ]
  },
  {
   "cell_type": "markdown",
   "metadata": {},
   "source": [
    "# Task a\n"
   ]
  },
  {
   "cell_type": "code",
   "execution_count": 4,
   "metadata": {},
   "outputs": [
    {
     "name": "stdout",
     "output_type": "stream",
     "text": [
      "Uncorrelated results\n",
      "for f1 = x+y\n"
     ]
    },
    {
     "data": {
      "text/latex": [
       "$$\\sigma_{f1} = \\sqrt{\\sigma_{x}^{2} + \\sigma_{y}^{2}}$$"
      ],
      "text/plain": [
       "<IPython.core.display.Latex object>"
      ]
     },
     "metadata": {},
     "output_type": "display_data"
    },
    {
     "name": "stdout",
     "output_type": "stream",
     "text": [
      "for f2 = x-y\n"
     ]
    },
    {
     "data": {
      "text/latex": [
       "$$\\sigma_{f2} = \\sqrt{\\sigma_{x}^{2} + \\sigma_{y}^{2}}$$"
      ],
      "text/plain": [
       "<IPython.core.display.Latex object>"
      ]
     },
     "metadata": {},
     "output_type": "display_data"
    },
    {
     "name": "stdout",
     "output_type": "stream",
     "text": [
      "Correlated results\n",
      "for z1 = x+y\n"
     ]
    },
    {
     "data": {
      "text/latex": [
       "$$\\sigma_{z1} = \\sqrt{2 \\rho \\sigma_{x} \\sigma_{y} + \\sigma_{x}^{2} + \\sigma_{y}^{2}}$$"
      ],
      "text/plain": [
       "<IPython.core.display.Latex object>"
      ]
     },
     "metadata": {},
     "output_type": "display_data"
    },
    {
     "name": "stdout",
     "output_type": "stream",
     "text": [
      "for z2 = x-y\n"
     ]
    },
    {
     "data": {
      "text/latex": [
       "$$\\sigma_{z2} = \\sqrt{- 2 \\rho \\sigma_{x} \\sigma_{y} + \\sigma_{x}^{2} + \\sigma_{y}^{2}}$$"
      ],
      "text/plain": [
       "<IPython.core.display.Latex object>"
      ]
     },
     "metadata": {},
     "output_type": "display_data"
    }
   ],
   "source": [
    "x,y,sigma_x,sigma_y = symbols('x,y,sigma_x,sigma_y',positive=True)\n",
    "f1 = x+y\n",
    "f2 = x-y\n",
    "sigma_f1 = error_prop(f1,[(x,sigma_x),(y,sigma_y)])\n",
    "sigma_f2 = error_prop(f2,[(x,sigma_x),(y,sigma_y)])\n",
    "print(\"Uncorrelated results\")\n",
    "result1 = \"$${} = {}$$\".format(latex(\"\\sigma_{f1}\"), latex(sigma_f1))\n",
    "result2 = \"$${} = {}$$\".format(latex(\"\\sigma_{f2}\"), latex(sigma_f2))\n",
    "print(\"for f1 = x+y\")\n",
    "display(Latex(result1))\n",
    "print(\"for f2 = x-y\")\n",
    "display(Latex(result2))\n",
    "\n",
    "\n",
    "\n",
    "\n",
    "x, y, sigma_x, sigma_y, n = symbols('x, y, sigma_x, sigma_y, n', positive=True)\n",
    "rho = Symbol(\"rho\", real=True)\n",
    "\n",
    "# covariance matrix\n",
    "C = [[sigma_x**2, rho * sigma_x * sigma_y], [rho * sigma_x * sigma_y, sigma_y**2]]\n",
    "\n",
    "z1 = x + y\n",
    "z2 = x-y\n",
    "vars = [x, y]\n",
    "sigma_z1 = error_prop_corr(z1, vars, C)\n",
    "result1 = \"$${} = {}$$\".format(latex(\"\\sigma_{z1}\"), latex(sigma_z1))\n",
    "sigma_z2 = error_prop_corr(z2,vars,C)\n",
    "result2 = \"$${} = {}$$\".format(latex(\"\\sigma_{z2}\"), latex(sigma_z2))\n",
    "print(\"Correlated results\")\n",
    "print(\"for z1 = x+y\")\n",
    "display(Latex(result1))\n",
    "print(\"for z2 = x-y\")\n",
    "display(Latex(result2))"
   ]
  },
  {
   "cell_type": "code",
   "execution_count": 5,
   "metadata": {},
   "outputs": [
    {
     "name": "stdout",
     "output_type": "stream",
     "text": [
      "Uncorrelated results\n"
     ]
    },
    {
     "data": {
      "text/latex": [
       "$$\\sigma_{g1} = \\frac{\\sqrt{\\sigma_{x}^{2} y^{2} + \\sigma_{y}^{2} x^{2}}}{x y}$$"
      ],
      "text/plain": [
       "<IPython.core.display.Latex object>"
      ]
     },
     "metadata": {},
     "output_type": "display_data"
    },
    {
     "data": {
      "text/latex": [
       "$$\\sigma_{g2} = \\frac{\\sqrt{\\sigma_{x}^{2} y^{2} + \\sigma_{y}^{2} x^{2}}}{x y}$$"
      ],
      "text/plain": [
       "<IPython.core.display.Latex object>"
      ]
     },
     "metadata": {},
     "output_type": "display_data"
    },
    {
     "data": {
      "text/latex": [
       "$$\\sigma_{g2} = n x^{- n} y^{- n} \\left(x y\\right)^{n - 1} \\sqrt{\\sigma_{x}^{2} y^{2} + \\sigma_{y}^{2} x^{2}}$$"
      ],
      "text/plain": [
       "<IPython.core.display.Latex object>"
      ]
     },
     "metadata": {},
     "output_type": "display_data"
    },
    {
     "name": "stdout",
     "output_type": "stream",
     "text": [
      "Correlated results\n"
     ]
    },
    {
     "data": {
      "text/latex": [
       "$$\\sigma_{z1} = \\frac{\\sqrt{2 \\rho \\sigma_{x} \\sigma_{y} x y + \\sigma_{x}^{2} y^{2} + \\sigma_{y}^{2} x^{2}}}{x y}$$"
      ],
      "text/plain": [
       "<IPython.core.display.Latex object>"
      ]
     },
     "metadata": {},
     "output_type": "display_data"
    },
    {
     "data": {
      "text/latex": [
       "$$\\sigma_{z2} = \\frac{\\sqrt{- 2 \\rho \\sigma_{x} \\sigma_{y} x y + \\sigma_{x}^{2} y^{2} + \\sigma_{y}^{2} x^{2}}}{x y}$$"
      ],
      "text/plain": [
       "<IPython.core.display.Latex object>"
      ]
     },
     "metadata": {},
     "output_type": "display_data"
    },
    {
     "data": {
      "text/latex": [
       "$$\\sigma_{z3} = n x^{- n} y^{- n} \\sqrt{\\left(x y\\right)^{2 n - 2} \\left(2 \\rho \\sigma_{x} \\sigma_{y} x y + \\sigma_{x}^{2} y^{2} + \\sigma_{y}^{2} x^{2}\\right)}$$"
      ],
      "text/plain": [
       "<IPython.core.display.Latex object>"
      ]
     },
     "metadata": {},
     "output_type": "display_data"
    }
   ],
   "source": [
    "g1 = x*y\n",
    "g2 = x/y\n",
    "g3 = x**n*y**n\n",
    "sigma_g1 = error_prop(g1,[(x,sigma_x),(y,sigma_y)])\n",
    "sigma_g2 = error_prop(g2,[(x,sigma_x),(y,sigma_y)])\n",
    "sigma_g3 = error_prop(g3,[(x,sigma_x),(y,sigma_y)])\n",
    "print(\"Uncorrelated results\")\n",
    "result1 = \"$${} = {}$$\".format(latex(\"\\sigma_{g1}\"), latex(sigma_g1/g1))\n",
    "result2 = \"$${} = {}$$\".format(latex(\"\\sigma_{g2}\"), latex(sigma_g2/g2))\n",
    "result3 = \"$${} = {}$$\".format(latex(\"\\sigma_{g2}\"), latex(sigma_g3/g3))\n",
    "display(Latex(result1))\n",
    "display(Latex(result2))\n",
    "display(Latex(result3))\n",
    "print(\"Correlated results\")\n",
    "C = [[sigma_x**2, rho * sigma_x * sigma_y], [rho * sigma_x * sigma_y, sigma_y**2]]\n",
    "\n",
    "z1 = x*y\n",
    "z2 = x/y\n",
    "z3 = x**n*y**n\n",
    "vars = [x, y]\n",
    "sigma_z1 = error_prop_corr(z1, vars, C)\n",
    "sigma_z2 = error_prop_corr(z2, vars, C)\n",
    "sigma_z3 = error_prop_corr(z3, vars, C)\n",
    "result1 = \"$${} = {}$$\".format(latex(\"\\sigma_{z1}\"), latex(sigma_z1/z1))\n",
    "result2 = \"$${} = {}$$\".format(latex(\"\\sigma_{z2}\"), latex(sigma_z2/z2))\n",
    "result3 = \"$${} = {}$$\".format(latex(\"\\sigma_{z3}\"), latex(sigma_z3/z3))\n",
    "display(Latex(result1))\n",
    "display(Latex(result2))\n",
    "display(Latex(result3))"
   ]
  },
  {
   "cell_type": "code",
   "execution_count": 6,
   "metadata": {},
   "outputs": [
    {
     "name": "stdout",
     "output_type": "stream",
     "text": [
      "Uncorrelated results\n"
     ]
    },
    {
     "data": {
      "text/latex": [
       "$$\\sigma_{g} = \\frac{4 \\pi^{2} \\sqrt{4 L^{2} \\sigma_{T}^{2} + T^{2} \\sigma_{L}^{2}}}{T^{3}}$$"
      ],
      "text/plain": [
       "<IPython.core.display.Latex object>"
      ]
     },
     "metadata": {},
     "output_type": "display_data"
    },
    {
     "name": "stdout",
     "output_type": "stream",
     "text": [
      "Correlated results\n"
     ]
    },
    {
     "data": {
      "text/latex": [
       "$$\\sigma_{z1} = \\frac{4 \\pi^{2} \\sqrt{4 L^{2} \\sigma_{T}^{2} - 4 L T \\rho \\sigma_{L} \\sigma_{T} + T^{2} \\sigma_{L}^{2}}}{T^{3}}$$"
      ],
      "text/plain": [
       "<IPython.core.display.Latex object>"
      ]
     },
     "metadata": {},
     "output_type": "display_data"
    }
   ],
   "source": [
    "L, T, sigma_L, sigma_T = symbols(\"L,T,sigma_L,sigma_T\",positive=True)\n",
    "g = 4*pi**2*L/T**2\n",
    "sigma_g = error_prop(g,[(L,sigma_L),(T,sigma_T)])\n",
    "result = \"$${} = {}$$\".format(latex(\"\\sigma_{g}\"), latex(sigma_g))\n",
    "print(\"Uncorrelated results\")\n",
    "display(Latex(result))\n",
    "C = [[sigma_L**2, rho * sigma_L * sigma_T], [rho * sigma_L * sigma_T, sigma_T**2]]\n",
    "vars = [L,T]\n",
    "sigma_g_c = error_prop_corr(g, vars, C)\n",
    "result = \"$${} = {}$$\".format(latex(\"\\sigma_{z1}\"), latex(sigma_g_c))\n",
    "print(\"Correlated results\")\n",
    "display(Latex(result))"
   ]
  },
  {
   "cell_type": "markdown",
   "metadata": {},
   "source": [
    "# Task b\n"
   ]
  },
  {
   "cell_type": "code",
   "execution_count": 8,
   "metadata": {},
   "outputs": [
    {
     "name": "stdout",
     "output_type": "stream",
     "text": [
      "Uncorrelated\n"
     ]
    },
    {
     "data": {
      "text/latex": [
       "$$\\sigma_{V} = \\pi r \\sqrt{4 h^{2} \\sigma_{r}^{2} + r^{2} \\sigma_{h}^{2}}$$"
      ],
      "text/plain": [
       "<IPython.core.display.Latex object>"
      ]
     },
     "metadata": {},
     "output_type": "display_data"
    },
    {
     "data": {
      "text/latex": [
       "$$V = \\pi h r^{2}$$"
      ],
      "text/plain": [
       "<IPython.core.display.Latex object>"
      ]
     },
     "metadata": {},
     "output_type": "display_data"
    },
    {
     "data": {
      "text/latex": [
       "$$V = (37.70 \\pm 1.99)\\, \\mathrm{cm}^3$$"
      ],
      "text/plain": [
       "<IPython.core.display.Latex object>"
      ]
     },
     "metadata": {},
     "output_type": "display_data"
    },
    {
     "name": "stdout",
     "output_type": "stream",
     "text": [
      "Correlated\n"
     ]
    },
    {
     "data": {
      "text/latex": [
       "$$\\sigma_{V_c} = \\pi r \\sqrt{4 h^{2} \\sigma_{r}^{2} + 4 h r \\sigma_{h} \\sigma_{r} + r^{2} \\sigma_{h}^{2}}$$"
      ],
      "text/plain": [
       "<IPython.core.display.Latex object>"
      ]
     },
     "metadata": {},
     "output_type": "display_data"
    },
    {
     "data": {
      "text/latex": [
       "$$V = (37.70 \\pm 2.51)\\, \\mathrm{cm}^3$$"
      ],
      "text/plain": [
       "<IPython.core.display.Latex object>"
      ]
     },
     "metadata": {},
     "output_type": "display_data"
    }
   ],
   "source": [
    "r, h, sigma_r, sigma_h = symbols('r, h, sigma_r, sigma_h', positive=True)\n",
    "V = pi*r**2*h\n",
    "print(\"Uncorrelated\")\n",
    "sigma_V = error_prop(V,[(r,sigma_r),(h,sigma_h)])\n",
    "result1 = \"$${} = {}$$\".format(latex(\"\\sigma_{V}\"), latex(sigma_V))\n",
    "display(Latex(result1))\n",
    "r_meas = 2 #cm\n",
    "h_meas = 3 #cm\n",
    "sigma_r_meas = 0.05 #cm\n",
    "sigma_h_meas = 0.05 #cm\n",
    "central_value = V.subs([(r,r_meas), (h, h_meas)]).evalf()\n",
    "sigma = sigma_V.subs([(r, r_meas), (sigma_r, sigma_r_meas), (h, h_meas), (sigma_h, sigma_h_meas)]).evalf()\n",
    "result = \"$${} = {}$$\".format(latex(\"V\"), latex(V))\n",
    "display(Latex(result))\n",
    "result = \"$${} = ({:.2f} \\pm {:.2f})\".format(latex(\"V\"), central_value, sigma) + \"\\, \\mathrm{cm}^3$$\"\n",
    "display(Latex(result))\n",
    "print(\"Correlated\")\n",
    "C = [[sigma_r**2, rho * sigma_r * sigma_h], [rho * sigma_r * sigma_h, sigma_h**2]]\n",
    "vars = [r,h]\n",
    "sigma_V_c = error_prop_corr(V, vars, C)\n",
    "result1 = \"$${} = {}$$\".format(latex(\"\\sigma_{V_c}\"), latex(sigma_V_c))\n",
    "display(Latex(result1))\n",
    "central_value_c = V.subs([(r,r_meas), (h, h_meas)]).evalf()\n",
    "rho = 1\n",
    "sigma_c = sigma_V_c.subs([(r, r_meas), (sigma_r, sigma_r_meas), (h, h_meas), (sigma_h, sigma_h_meas)]).evalf()\n",
    "result = \"$${} = ({:.2f} \\pm {:.2f})\".format(latex(\"V\"), central_value_c, sigma_c) + \"\\, \\mathrm{cm}^3$$\"\n",
    "display(Latex(result))"
   ]
  },
  {
   "cell_type": "markdown",
   "metadata": {},
   "source": [
    "# Task c"
   ]
  },
  {
   "cell_type": "markdown",
   "metadata": {},
   "source": [
    "For i != j, the E_kl is zero"
   ]
  },
  {
   "cell_type": "code",
   "execution_count": 9,
   "metadata": {},
   "outputs": [
    {
     "data": {
      "text/latex": [
       "$\\displaystyle \\left[\\begin{matrix}\\frac{\\sigma_{x}^{2} x^{2} + \\sigma_{y}^{2} y^{2}}{x^{2} + y^{2}} & \\frac{x y \\left(- \\sigma_{x}^{2} + \\sigma_{y}^{2}\\right)}{\\left(x^{2} + y^{2}\\right)^{\\frac{3}{2}}}\\\\\\frac{x y \\left(- \\sigma_{x}^{2} + \\sigma_{y}^{2}\\right)}{\\left(x^{2} + y^{2}\\right)^{\\frac{3}{2}}} & \\frac{\\sigma_{x}^{2} y^{2} + \\sigma_{y}^{2} x^{2}}{\\left(x^{2} + y^{2}\\right)^{2}}\\end{matrix}\\right]$"
      ],
      "text/plain": [
       "Matrix([\n",
       "[  (sigma_x**2*x**2 + sigma_y**2*y**2)/(x**2 + y**2),  x*y*(-sigma_x**2 + sigma_y**2)/(x**2 + y**2)**(3/2)],\n",
       "[x*y*(-sigma_x**2 + sigma_y**2)/(x**2 + y**2)**(3/2), (sigma_x**2*y**2 + sigma_y**2*x**2)/(x**2 + y**2)**2]])"
      ]
     },
     "execution_count": 9,
     "metadata": {},
     "output_type": "execute_result"
    }
   ],
   "source": [
    "rho = 0\n",
    "x, y, sigma_x, sigma_y = symbols('x, y, sigma_x, sigma_y', positive=True)\n",
    "C = [[sigma_x**2, rho * sigma_x * sigma_y], [rho * sigma_x * sigma_y, sigma_y**2]]\n",
    "C = Matrix([[sigma_x**2,0],[0,sigma_y**2]])\n",
    "f = sqrt(x**2+y**2)\n",
    "g = atan2(y,x)\n",
    "result = corr_transfer(f,g,C,[x,y])\n",
    "result"
   ]
  },
  {
   "cell_type": "code",
   "execution_count": null,
   "metadata": {},
   "outputs": [],
   "source": []
  },
  {
   "cell_type": "code",
   "execution_count": null,
   "metadata": {},
   "outputs": [],
   "source": []
  }
 ],
 "metadata": {
  "kernelspec": {
   "display_name": "Python 3",
   "language": "python",
   "name": "python3"
  },
  "language_info": {
   "codemirror_mode": {
    "name": "ipython",
    "version": 3
   },
   "file_extension": ".py",
   "mimetype": "text/x-python",
   "name": "python",
   "nbconvert_exporter": "python",
   "pygments_lexer": "ipython3",
   "version": "3.9.6"
  }
 },
 "nbformat": 4,
 "nbformat_minor": 4
}
